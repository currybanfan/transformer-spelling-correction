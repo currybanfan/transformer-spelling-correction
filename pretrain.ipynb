{
 "cells": [
  {
   "cell_type": "code",
   "execution_count": null,
   "metadata": {},
   "outputs": [],
   "source": [
    "from torch.utils.data import DataLoader\n",
    "from torch.utils.data import Dataset\n",
    "from torch import nn\n",
    "import torch\n",
    "import json\n",
    "import os\n",
    "import matplotlib.pyplot as plt\n",
    "from tqdm import tqdm\n",
    "import numpy as np\n",
    "from utils import gen_padding_mask, metrics, random_mask_target, compute_length_loss\n",
    "from seq2seqmodel import TransformerAutoEncoder\n",
    "from tokenizer import Tokenizer\n",
    "import random"
   ]
  },
  {
   "cell_type": "code",
   "execution_count": 46,
   "metadata": {},
   "outputs": [
    {
     "name": "stdout",
     "output_type": "stream",
     "text": [
      "NVIDIA GeForce RTX 4070 SUPER\n",
      "_CudaDeviceProperties(name='NVIDIA GeForce RTX 4070 SUPER', major=8, minor=9, total_memory=12281MB, multi_processor_count=56, uuid=25c21ef8-cd11-c18b-4083-56f7752b9683, L2_cache_size=48MB)\n"
     ]
    }
   ],
   "source": [
    "# 檢查是否可用 GPU\n",
    "device = torch.device(\"cuda\" if torch.cuda.is_available() else \"cpu\")\n",
    "\n",
    "if device.type == 'cuda':\n",
    "    print(torch.cuda.get_device_name(device))\n",
    "    print(torch.cuda.get_device_properties(device))\n",
    "\n",
    "    # 清除 CUDA 設備的未使用內存\n",
    "    torch.cuda.empty_cache()\n",
    "else:\n",
    "    print(\"CUDA is not available. Using CPU.\")"
   ]
  },
  {
   "cell_type": "code",
   "execution_count": 47,
   "metadata": {},
   "outputs": [],
   "source": [
    "class PretrainDataset(Dataset):\n",
    "\n",
    "    def __init__(self, root, tokenizer, padding=24, mask_prob=0.3):\n",
    "        super(PretrainDataset, self).__init__()\n",
    "        with open(os.path.join(root, 'words_dictionary.json'), 'r') as f:\n",
    "            words_dict = json.load(f)\n",
    "        \n",
    "        # 將單字列表設為數據集\n",
    "        self.words = list(words_dict.keys())\n",
    "        self.tokenizer = tokenizer\n",
    "        self.padding = padding\n",
    "        self.mask_prob = mask_prob\n",
    "\n",
    "    def tokenize(self, word):\n",
    "        # 將單字轉換為 token id 序列\n",
    "        token_ids = [self.tokenizer.char_2_index['[sos]']] + \\\n",
    "                    self.tokenizer.char_to_index(word) + \\\n",
    "                    [self.tokenizer.char_2_index['[eos]']]\n",
    "        \n",
    "        token_ids = token_ids[:self.padding]  # 截斷\n",
    "        padded_ids = np.pad(token_ids, (0, max(0, self.padding - len(token_ids))), constant_values=self.tokenizer.pad_idx)\n",
    "        return padded_ids\n",
    "    \n",
    "    def apply_mask(self, token_ids):\n",
    "        masked_token_ids = token_ids.copy()\n",
    "        \n",
    "        for i in range(1, len(token_ids) - 1):  # 跳過 [sos] 和 [eos]\n",
    "            if token_ids[i] == self.tokenizer.pad_idx:\n",
    "                break  # 遇到 padding 停止\n",
    "\n",
    "            if np.random.rand() < self.mask_prob:\n",
    "                prob = np.random.rand()\n",
    "\n",
    "                if prob < 0.7:\n",
    "                    masked_token_ids[i] = self.tokenizer.mask_idx  # 70% 機率替換為 [mask]\n",
    "                elif prob < 0.9:\n",
    "                    masked_token_ids[i] = random.randint(0, 25)  # 10% 替換為隨機字符\n",
    "                    \n",
    "                # 10% 保持原字\n",
    "\n",
    "        return masked_token_ids\n",
    "    \n",
    "    def __len__(self):\n",
    "        # 返回數據集的單字數量\n",
    "        return len(self.words)\n",
    "\n",
    "    def __getitem__(self, index):\n",
    "        word = self.words[index]\n",
    "        input_text = self.tokenize(word)\n",
    "        target_text = self.tokenize(word)\n",
    "\n",
    "        masked_input = self.apply_mask(input_text)\n",
    "\n",
    "        src_ids = torch.tensor(masked_input, dtype=torch.long)\n",
    "        tgt_ids = torch.tensor(target_text, dtype=torch.long)\n",
    "\n",
    "        return src_ids, tgt_ids"
   ]
  },
  {
   "cell_type": "code",
   "execution_count": 48,
   "metadata": {},
   "outputs": [],
   "source": [
    "tokenizer = Tokenizer()\n",
    "\n",
    "PAD_IDX = tokenizer.pad_idx\n",
    "SOS_IDX = tokenizer.sos_idx\n",
    "EOS_IDX = tokenizer.eos_idx\n",
    "MASK_IDX = tokenizer.mask_idx"
   ]
  },
  {
   "cell_type": "code",
   "execution_count": null,
   "metadata": {},
   "outputs": [],
   "source": [
    "def pretrain_encoder(dataloader, model, optimizer, criterion, init_sampling_prob=0.8, sampling_decay_rate=0.1, num_epochs=10, scheduler=None, logout=False):\n",
    "\n",
    "    loss_records = []\n",
    "    accuracy_records = []\n",
    "    sampling_prob = init_sampling_prob\n",
    "\n",
    "    model.train()\n",
    "    for epoch in range(num_epochs):\n",
    "        total_loss = 0\n",
    "        total_accuracy = 0\n",
    "        \n",
    "        progress_bar = tqdm(dataloader, desc=f'Epoch {epoch+1}/{num_epochs}') \n",
    "        for src_ids, tgt_ids in progress_bar:\n",
    "            src_ids, tgt_ids = src_ids.to(device), tgt_ids.to(device)  # [batch_size, sequence_length]\n",
    "\n",
    "            # 遮蔽目標單字\n",
    "            tgt_ids_masked = random_mask_target(tgt_ids.clone(), sampling_prob, PAD_IDX, SOS_IDX)\n",
    " \n",
    "            src_pad_mask = gen_padding_mask(src_ids, PAD_IDX).to(device)\n",
    "            tgt_pad_mask = gen_padding_mask(tgt_ids_masked, PAD_IDX).to(device)\n",
    "\n",
    "            optimizer.zero_grad()\n",
    "\n",
    "            # 前向傳播\n",
    "            output = model(src_ids, tgt_ids_masked, src_pad_mask, tgt_pad_mask)  # [batch_size, sequence_length, vocab_size]\n",
    "\n",
    "            # 計算損失\n",
    "            ce_loss = criterion(output.view(-1, output.size(-1)), tgt_ids.view(-1))\n",
    "            length_loss = compute_length_loss(output.argmax(dim=-1), tgt_ids, EOS_IDX)\n",
    "\n",
    "            total_loss_batch = ce_loss + 0.1 * length_loss\n",
    "            total_loss_batch.backward()\n",
    "            optimizer.step()\n",
    "            total_loss += total_loss_batch.item()\n",
    "                \n",
    "            # 計算準確率\n",
    "            pred = output.argmax(dim=-1)  # [batch_size, sequence_length]\n",
    "            \n",
    "            pred_str_batch = [\n",
    "                tokenizer.index_to_char(pred[i], without_token=True)\n",
    "                for i in range(pred.size(0))\n",
    "            ]\n",
    "            target_str_batch = [\n",
    "                tokenizer.index_to_char(tgt_ids[i], without_token=True)\n",
    "                for i in range(tgt_ids.size(0))\n",
    "            ]\n",
    "\n",
    "            total_accuracy += metrics(pred_str_batch, target_str_batch)\n",
    "\n",
    "            if logout:\n",
    "                print('='*30)\n",
    "                print(f'src: {tokenizer.index_to_char(src_ids[-1], without_token=True)}')\n",
    "                print(f'pred: {pred_str_batch[-1]}')\n",
    "                print(f'target: {target_str_batch[-1]}')\n",
    "                        \n",
    "        if scheduler:\n",
    "            scheduler.step()\n",
    "\n",
    "        sampling_prob *= (1- sampling_decay_rate)\n",
    "\n",
    "        avg_loss = total_loss / len(dataloader)\n",
    "        avg_accuracy = total_accuracy / len(dataloader)\n",
    "        loss_records.append(avg_loss)\n",
    "        accuracy_records.append(avg_accuracy)\n",
    "\n",
    "        print(f\"Epoch {epoch + 1}/{num_epochs}, Loss: {avg_loss:.4f}, Accuracy: {avg_accuracy:.2f}%\")\n",
    "    \n",
    "    return loss_records, accuracy_records"
   ]
  },
  {
   "cell_type": "code",
   "execution_count": 51,
   "metadata": {},
   "outputs": [],
   "source": [
    "embedding_num = 31\n",
    "embedding_dim = 512\n",
    "num_layers = 8\n",
    "num_heads = 4\n",
    "ff_dim = 1024\n",
    "dropout = 0.2\n",
    "padding=24\n",
    "learning_rate=0.0001"
   ]
  },
  {
   "cell_type": "code",
   "execution_count": 52,
   "metadata": {},
   "outputs": [],
   "source": [
    "model = TransformerAutoEncoder(embedding_num, embedding_dim, num_layers, num_heads, ff_dim, dropout, padding).to(device)\n",
    "ce_loss = nn.CrossEntropyLoss(ignore_index=PAD_IDX)\n",
    "optimizer = torch.optim.Adam(model.parameters(), lr=learning_rate)"
   ]
  },
  {
   "cell_type": "code",
   "execution_count": 53,
   "metadata": {},
   "outputs": [],
   "source": [
    "epochs=20\n",
    "batch_size=128\n",
    "mask_prob=0.3\n",
    "init_sampling_prob=0.5\n",
    "sampling_decay_rate=0"
   ]
  },
  {
   "cell_type": "code",
   "execution_count": null,
   "metadata": {},
   "outputs": [],
   "source": [
    "from torch.optim.lr_scheduler import StepLR\n",
    "\n",
    "scheduler = StepLR(optimizer, step_size=2, gamma=0.9)"
   ]
  },
  {
   "cell_type": "code",
   "execution_count": 55,
   "metadata": {},
   "outputs": [
    {
     "name": "stderr",
     "output_type": "stream",
     "text": [
      "Epoch 1/20: 100%|██████████| 2892/2892 [05:39<00:00,  8.51it/s]\n"
     ]
    },
    {
     "name": "stdout",
     "output_type": "stream",
     "text": [
      "Epoch 1/20, Loss: 0.7757, Accuracy: 23.06%\n"
     ]
    },
    {
     "name": "stderr",
     "output_type": "stream",
     "text": [
      "Epoch 2/20: 100%|██████████| 2892/2892 [05:39<00:00,  8.52it/s]\n"
     ]
    },
    {
     "name": "stdout",
     "output_type": "stream",
     "text": [
      "Epoch 2/20, Loss: 0.3288, Accuracy: 36.73%\n"
     ]
    },
    {
     "name": "stderr",
     "output_type": "stream",
     "text": [
      "Epoch 3/20: 100%|██████████| 2892/2892 [05:39<00:00,  8.52it/s]\n"
     ]
    },
    {
     "name": "stdout",
     "output_type": "stream",
     "text": [
      "Epoch 3/20, Loss: 0.3032, Accuracy: 39.06%\n"
     ]
    },
    {
     "name": "stderr",
     "output_type": "stream",
     "text": [
      "Epoch 4/20: 100%|██████████| 2892/2892 [05:36<00:00,  8.59it/s]\n"
     ]
    },
    {
     "name": "stdout",
     "output_type": "stream",
     "text": [
      "Epoch 4/20, Loss: 0.2925, Accuracy: 40.26%\n"
     ]
    },
    {
     "name": "stderr",
     "output_type": "stream",
     "text": [
      "Epoch 5/20: 100%|██████████| 2892/2892 [05:35<00:00,  8.63it/s]\n"
     ]
    },
    {
     "name": "stdout",
     "output_type": "stream",
     "text": [
      "Epoch 5/20, Loss: 0.2802, Accuracy: 41.72%\n"
     ]
    },
    {
     "name": "stderr",
     "output_type": "stream",
     "text": [
      "Epoch 6/20: 100%|██████████| 2892/2892 [05:35<00:00,  8.61it/s]\n"
     ]
    },
    {
     "name": "stdout",
     "output_type": "stream",
     "text": [
      "Epoch 6/20, Loss: 0.2746, Accuracy: 42.34%\n"
     ]
    },
    {
     "name": "stderr",
     "output_type": "stream",
     "text": [
      "Epoch 7/20: 100%|██████████| 2892/2892 [05:35<00:00,  8.63it/s]\n"
     ]
    },
    {
     "name": "stdout",
     "output_type": "stream",
     "text": [
      "Epoch 7/20, Loss: 0.2672, Accuracy: 43.21%\n"
     ]
    },
    {
     "name": "stderr",
     "output_type": "stream",
     "text": [
      "Epoch 8/20: 100%|██████████| 2892/2892 [05:35<00:00,  8.63it/s]\n"
     ]
    },
    {
     "name": "stdout",
     "output_type": "stream",
     "text": [
      "Epoch 8/20, Loss: 0.2626, Accuracy: 43.80%\n"
     ]
    },
    {
     "name": "stderr",
     "output_type": "stream",
     "text": [
      "Epoch 9/20: 100%|██████████| 2892/2892 [05:33<00:00,  8.68it/s]\n"
     ]
    },
    {
     "name": "stdout",
     "output_type": "stream",
     "text": [
      "Epoch 9/20, Loss: 0.2570, Accuracy: 44.54%\n"
     ]
    },
    {
     "name": "stderr",
     "output_type": "stream",
     "text": [
      "Epoch 10/20: 100%|██████████| 2892/2892 [05:32<00:00,  8.69it/s]\n"
     ]
    },
    {
     "name": "stdout",
     "output_type": "stream",
     "text": [
      "Epoch 10/20, Loss: 0.2540, Accuracy: 45.04%\n"
     ]
    },
    {
     "name": "stderr",
     "output_type": "stream",
     "text": [
      "Epoch 11/20: 100%|██████████| 2892/2892 [05:33<00:00,  8.66it/s]\n"
     ]
    },
    {
     "name": "stdout",
     "output_type": "stream",
     "text": [
      "Epoch 11/20, Loss: 0.2504, Accuracy: 45.45%\n"
     ]
    },
    {
     "name": "stderr",
     "output_type": "stream",
     "text": [
      "Epoch 12/20: 100%|██████████| 2892/2892 [05:35<00:00,  8.62it/s]\n"
     ]
    },
    {
     "name": "stdout",
     "output_type": "stream",
     "text": [
      "Epoch 12/20, Loss: 0.2476, Accuracy: 45.85%\n"
     ]
    },
    {
     "name": "stderr",
     "output_type": "stream",
     "text": [
      "Epoch 13/20: 100%|██████████| 2892/2892 [05:36<00:00,  8.60it/s]\n"
     ]
    },
    {
     "name": "stdout",
     "output_type": "stream",
     "text": [
      "Epoch 13/20, Loss: 0.2436, Accuracy: 46.34%\n"
     ]
    },
    {
     "name": "stderr",
     "output_type": "stream",
     "text": [
      "Epoch 14/20: 100%|██████████| 2892/2892 [05:38<00:00,  8.55it/s]\n"
     ]
    },
    {
     "name": "stdout",
     "output_type": "stream",
     "text": [
      "Epoch 14/20, Loss: 0.2432, Accuracy: 46.49%\n"
     ]
    },
    {
     "name": "stderr",
     "output_type": "stream",
     "text": [
      "Epoch 15/20: 100%|██████████| 2892/2892 [05:35<00:00,  8.63it/s]\n"
     ]
    },
    {
     "name": "stdout",
     "output_type": "stream",
     "text": [
      "Epoch 15/20, Loss: 0.2386, Accuracy: 47.14%\n"
     ]
    },
    {
     "name": "stderr",
     "output_type": "stream",
     "text": [
      "Epoch 16/20: 100%|██████████| 2892/2892 [05:28<00:00,  8.80it/s]\n"
     ]
    },
    {
     "name": "stdout",
     "output_type": "stream",
     "text": [
      "Epoch 16/20, Loss: 0.2380, Accuracy: 47.25%\n"
     ]
    },
    {
     "name": "stderr",
     "output_type": "stream",
     "text": [
      "Epoch 17/20: 100%|██████████| 2892/2892 [05:33<00:00,  8.67it/s]\n"
     ]
    },
    {
     "name": "stdout",
     "output_type": "stream",
     "text": [
      "Epoch 17/20, Loss: 0.2344, Accuracy: 47.72%\n"
     ]
    },
    {
     "name": "stderr",
     "output_type": "stream",
     "text": [
      "Epoch 18/20: 100%|██████████| 2892/2892 [05:33<00:00,  8.67it/s]\n"
     ]
    },
    {
     "name": "stdout",
     "output_type": "stream",
     "text": [
      "Epoch 18/20, Loss: 0.2337, Accuracy: 47.90%\n"
     ]
    },
    {
     "name": "stderr",
     "output_type": "stream",
     "text": [
      "Epoch 19/20: 100%|██████████| 2892/2892 [05:34<00:00,  8.66it/s]\n"
     ]
    },
    {
     "name": "stdout",
     "output_type": "stream",
     "text": [
      "Epoch 19/20, Loss: 0.2319, Accuracy: 48.11%\n"
     ]
    },
    {
     "name": "stderr",
     "output_type": "stream",
     "text": [
      "Epoch 20/20: 100%|██████████| 2892/2892 [05:34<00:00,  8.65it/s]"
     ]
    },
    {
     "name": "stdout",
     "output_type": "stream",
     "text": [
      "Epoch 20/20, Loss: 0.2300, Accuracy: 48.30%\n"
     ]
    },
    {
     "name": "stderr",
     "output_type": "stream",
     "text": [
      "\n"
     ]
    }
   ],
   "source": [
    "pretrain_dataset = PretrainDataset('./data/', tokenizer=tokenizer, padding=padding, mask_prob=mask_prob)\n",
    "pretrain_loader = DataLoader(pretrain_dataset, batch_size=batch_size, shuffle=True)\n",
    "\n",
    "# 訓練模型\n",
    "loss_records, accuracy_records = pretrain_encoder(\n",
    "    pretrain_loader,\n",
    "    model=model,\n",
    "    optimizer=optimizer,\n",
    "    criterion=ce_loss,\n",
    "    init_sampling_prob=init_sampling_prob,\n",
    "    sampling_decay_rate=sampling_decay_rate,\n",
    "    num_epochs=epochs,\n",
    "    scheduler=scheduler,\n",
    "    logout=False\n",
    ")"
   ]
  },
  {
   "cell_type": "code",
   "execution_count": 68,
   "metadata": {},
   "outputs": [],
   "source": [
    "def plot_loss_acc(loss, acc):\n",
    "    fig, ax1 = plt.subplots(figsize=(10, 5))\n",
    "\n",
    "    # 左 y 軸：損失曲線\n",
    "    ax1.plot(loss, label='Loss', color='tab:red')\n",
    "    ax1.set_xlabel('Epoch')\n",
    "    ax1.set_ylabel('Loss', color='tab:red')\n",
    "    ax1.tick_params(axis='y', labelcolor='tab:red')\n",
    "    ax1.set_title('Training Loss and Accuracy over Epochs')\n",
    "\n",
    "    # 右 y 軸：準確率曲線\n",
    "    ax2 = ax1.twinx()\n",
    "    ax2.plot(acc, label='Accuracy', color='tab:blue')\n",
    "    ax2.set_ylabel('Accuracy (%)', color='tab:blue')\n",
    "    ax2.tick_params(axis='y', labelcolor='tab:blue')\n",
    "\n",
    "    # 顯示圖例\n",
    "    fig.tight_layout()\n",
    "    plt.show()"
   ]
  },
  {
   "cell_type": "code",
   "execution_count": 69,
   "metadata": {},
   "outputs": [
    {
     "data": {
      "image/png": "[encoded data removed]",
      "text/plain": [
       "<Figure size 1000x500 with 2 Axes>"
      ]
     },
     "metadata": {},
     "output_type": "display_data"
    }
   ],
   "source": [
    "plot_loss_acc(loss_records, accuracy_records)"
   ]
  },
  {
   "cell_type": "code",
   "execution_count": 63,
   "metadata": {},
   "outputs": [],
   "source": [
    "model_config = {\n",
    "    \"num_emb\": embedding_num,\n",
    "    \"hid_dim\": embedding_dim,\n",
    "    \"n_layers\": num_layers,\n",
    "    \"n_heads\": num_heads,\n",
    "    \"ff_dim\": ff_dim,\n",
    "    \"dropout\": dropout,\n",
    "    \"max_length\": padding\n",
    "}\n",
    "\n",
    "checkpoint = {\n",
    "    \"model_state_dict\": model.state_dict(),  # 模型權重\n",
    "    \"model_config\": model_config              # 模型架構參數\n",
    "}\n",
    "\n",
    "torch.save(checkpoint, 'pretrain_para.pth')"
   ]
  }
 ],
 "metadata": {
  "kernelspec": {
   "display_name": "venv",
   "language": "python",
   "name": "python3"
  },
  "language_info": {
   "codemirror_mode": {
    "name": "ipython",
    "version": 3
   },
   "file_extension": ".py",
   "mimetype": "text/x-python",
   "name": "python",
   "nbconvert_exporter": "python",
   "pygments_lexer": "ipython3",
   "version": "3.11.9"
  }
 },
 "nbformat": 4,
 "nbformat_minor": 2
}
